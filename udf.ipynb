{
 "cells": [
  {
   "cell_type": "code",
   "execution_count": 2,
   "id": "063c27b9",
   "metadata": {},
   "outputs": [],
   "source": [
    "import os\n",
    "import sys\n",
    "# Py4JJavaError 해결\n",
    "os.environ['PYSPARK_PYTHON'] = sys.executable\n",
    "os.environ['PYSPARK_DRIVER_PYTHON'] = sys.executable"
   ]
  },
  {
   "cell_type": "code",
   "execution_count": 3,
   "id": "9f177f5f",
   "metadata": {},
   "outputs": [],
   "source": [
    "from pyspark.sql import SparkSession"
   ]
  },
  {
   "cell_type": "code",
   "execution_count": 4,
   "id": "1b8aac7d",
   "metadata": {},
   "outputs": [],
   "source": [
    "spark = SparkSession.builder.appName(\"udf\").getOrCreate()"
   ]
  },
  {
   "cell_type": "code",
   "execution_count": 5,
   "id": "f21d3c98",
   "metadata": {},
   "outputs": [],
   "source": [
    "transactions = [\n",
    "    ('찹쌀탕수육+짜장2', '2021-11-07 13:20:00', 22000, 'KRW'),\n",
    "    ('등심탕수육+크립새우+짜장면', '2021-10-24 11:19:00', 21500, 'KRW'), \n",
    "    ('월남 쌈 2인 세트', '2021-07-25 11:12:40', 42000, 'KRW'), \n",
    "    ('콩국수+열무비빔국수', '2021-07-10 08:20:00', 21250, 'KRW'), \n",
    "    ('장어소금+고추장구이', '2021-07-01 05:36:00', 68700, 'KRW'), \n",
    "    ('족발', '2020-08-19 19:04:00', 32000, 'KRW'),  \n",
    "]\n",
    "\n",
    "schema = [\"name\", \"datetime\", \"price\", \"currency\"]\n",
    "df = spark.createDataFrame(data=transactions, schema=schema)"
   ]
  },
  {
   "cell_type": "code",
   "execution_count": 6,
   "id": "d8c2f9a6",
   "metadata": {},
   "outputs": [],
   "source": [
    "df.createOrReplaceTempView(\"transactions\")"
   ]
  },
  {
   "cell_type": "code",
   "execution_count": 7,
   "id": "12c8feca",
   "metadata": {},
   "outputs": [
    {
     "name": "stdout",
     "output_type": "stream",
     "text": [
      "+--------------------------+-------------------+-----+--------+\n",
      "|                      name|           datetime|price|currency|\n",
      "+--------------------------+-------------------+-----+--------+\n",
      "|          찹쌀탕수육+짜장2|2021-11-07 13:20:00|22000|     KRW|\n",
      "|등심탕수육+크립새우+짜장면|2021-10-24 11:19:00|21500|     KRW|\n",
      "|          월남 쌈 2인 세트|2021-07-25 11:12:40|42000|     KRW|\n",
      "|       콩국수+열무비빔국수|2021-07-10 08:20:00|21250|     KRW|\n",
      "|       장어소금+고추장구이|2021-07-01 05:36:00|68700|     KRW|\n",
      "|                      족발|2020-08-19 19:04:00|32000|     KRW|\n",
      "+--------------------------+-------------------+-----+--------+\n",
      "\n"
     ]
    }
   ],
   "source": [
    "spark.sql(\"SELECT * FROM transactions\").show()"
   ]
  },
  {
   "cell_type": "code",
   "execution_count": 13,
   "id": "2aa519e6",
   "metadata": {},
   "outputs": [
    {
     "name": "stdout",
     "output_type": "stream",
     "text": [
      "+-----+---------------+\n",
      "|price|squared1(price)|\n",
      "+-----+---------------+\n",
      "|22000|      484000000|\n",
      "|21500|      462250000|\n",
      "|42000|     1764000000|\n",
      "|21250|      451562500|\n",
      "|68700|     4719690000|\n",
      "|32000|     1024000000|\n",
      "+-----+---------------+\n",
      "\n"
     ]
    }
   ],
   "source": [
    "from pyspark.sql.types import LongType \n",
    "\n",
    "# 방법 1\n",
    "def squared1(s):\n",
    "    return s * s\n",
    "\n",
    "# 반환값 타입 지정해주지 않으면 기본적으로 문자 타입으로 반환\n",
    "spark.udf.register(\"squared1\", squared1)\n",
    "spark.udf.register(\"squared1\", squared1, LongType())\n",
    "spark.sql(\"SELECT price, squared1(price) FROM transactions\").show()"
   ]
  },
  {
   "cell_type": "code",
   "execution_count": 12,
   "id": "f804ae35",
   "metadata": {},
   "outputs": [
    {
     "name": "stdout",
     "output_type": "stream",
     "text": [
      "+-----+---------------+\n",
      "|price|squared2(price)|\n",
      "+-----+---------------+\n",
      "|22000|      484000000|\n",
      "|21500|      462250000|\n",
      "|42000|     1764000000|\n",
      "|21250|      451562500|\n",
      "|68700|     4719690000|\n",
      "|32000|     1024000000|\n",
      "+-----+---------------+\n",
      "\n"
     ]
    }
   ],
   "source": [
    "from pyspark.sql.functions import udf\n",
    "\n",
    "# 방법 2\n",
    "@udf(\"long\")\n",
    "def squared2(s):\n",
    "    return s * s\n",
    "\n",
    "spark.udf.register(\"squared2\", squared2)\n",
    "spark.sql(\"SELECT price, squared2(price) FROM transactions\").show()"
   ]
  },
  {
   "cell_type": "code",
   "execution_count": 15,
   "id": "98843305",
   "metadata": {},
   "outputs": [
    {
     "name": "stdout",
     "output_type": "stream",
     "text": [
      "이만일천이백오십\n",
      "육만팔천칠백\n"
     ]
    }
   ],
   "source": [
    "def read_number(n):\n",
    "    units = [\"\",\"십\",\"백\",\"천\",\"만\"]\n",
    "    nums = '일이삼사오육칠팔구'\n",
    "    result = []\n",
    "    i = 0\n",
    "    while n>0:\n",
    "        n,r = divmod(n, 10)\n",
    "        if r>0:\n",
    "            result.append(nums[r-1]+units[i])\n",
    "        i+= 1\n",
    "    return \"\".join(result[::-1])\n",
    "\n",
    "\n",
    "print(read_number(21250))\n",
    "print(read_number(68700))"
   ]
  },
  {
   "cell_type": "code",
   "execution_count": 16,
   "id": "834eb304",
   "metadata": {},
   "outputs": [
    {
     "name": "stdout",
     "output_type": "stream",
     "text": [
      "+--------------------------+---------------+---------------+\n",
      "|                      name|squared1(price)|squared2(price)|\n",
      "+--------------------------+---------------+---------------+\n",
      "|          찹쌀탕수육+짜장2|      484000000|      484000000|\n",
      "|등심탕수육+크립새우+짜장면|      462250000|      462250000|\n",
      "|          월남 쌈 2인 세트|     1764000000|     1764000000|\n",
      "|       콩국수+열무비빔국수|      451562500|      451562500|\n",
      "|       장어소금+고추장구이|     4719690000|     4719690000|\n",
      "|                      족발|     1024000000|     1024000000|\n",
      "+--------------------------+---------------+---------------+\n",
      "\n"
     ]
    }
   ],
   "source": [
    "spark.sql(\"SELECT name, squared1(price), squared2(price) from transactions\").show()"
   ]
  },
  {
   "cell_type": "code",
   "execution_count": 17,
   "id": "0cfc7e45",
   "metadata": {},
   "outputs": [
    {
     "data": {
      "text/plain": [
       "<function __main__.read_number(n)>"
      ]
     },
     "execution_count": 17,
     "metadata": {},
     "output_type": "execute_result"
    }
   ],
   "source": [
    "spark.udf.register(\"read_number\", read_number)"
   ]
  },
  {
   "cell_type": "code",
   "execution_count": 18,
   "id": "96c9577c",
   "metadata": {},
   "outputs": [
    {
     "data": {
      "text/plain": [
       "<function __main__.read_number(n)>"
      ]
     },
     "execution_count": 18,
     "metadata": {},
     "output_type": "execute_result"
    }
   ],
   "source": [
    "# default return type is string type so specify type if you don't want string\n",
    "from pyspark.sql.types import StringType \n",
    "spark.udf.register(\"read_number\", read_number, StringType())"
   ]
  },
  {
   "cell_type": "code",
   "execution_count": 19,
   "id": "679364a3",
   "metadata": {},
   "outputs": [
    {
     "name": "stdout",
     "output_type": "stream",
     "text": [
      "+--------------------------+------------------+\n",
      "|                      name|read_number(price)|\n",
      "+--------------------------+------------------+\n",
      "|          찹쌀탕수육+짜장2|          이만이천|\n",
      "|등심탕수육+크립새우+짜장면|      이만일천오백|\n",
      "|          월남 쌈 2인 세트|          사만이천|\n",
      "|       콩국수+열무비빔국수|  이만일천이백오십|\n",
      "|       장어소금+고추장구이|      육만팔천칠백|\n",
      "|                      족발|          삼만이천|\n",
      "+--------------------------+------------------+\n",
      "\n"
     ]
    }
   ],
   "source": [
    "spark.sql(\"SELECT name, read_number(price) from transactions\").show()"
   ]
  },
  {
   "cell_type": "code",
   "execution_count": 20,
   "id": "7647c61a",
   "metadata": {},
   "outputs": [
    {
     "name": "stdout",
     "output_type": "stream",
     "text": [
      "+-------------------+-----------+\n",
      "|           datetime|day_of_week|\n",
      "+-------------------+-----------+\n",
      "|2021-11-07 13:20:00|     Sunday|\n",
      "|2021-10-24 11:19:00|     Sunday|\n",
      "|2021-07-25 11:12:40|     Sunday|\n",
      "|2021-07-10 08:20:00|   Saturday|\n",
      "|2021-07-01 05:36:00|   Thursday|\n",
      "|2020-08-19 19:04:00|  Wednesday|\n",
      "+-------------------+-----------+\n",
      "\n"
     ]
    }
   ],
   "source": [
    "def get_weekday(date):\n",
    "    import calendar \n",
    "    return calendar.day_name[date.weekday()]\n",
    "\n",
    "spark.udf.register('get_weekday', get_weekday)\n",
    "\n",
    "\n",
    "query = \"\"\"\n",
    "SELECT\n",
    "    datetime, \n",
    "    get_weekday(TO_DATE(datetime)) AS day_of_week\n",
    "FROM\n",
    "    transactions\n",
    "\"\"\"\n",
    "\n",
    "spark.sql(query).show()"
   ]
  }
 ],
 "metadata": {
  "kernelspec": {
   "display_name": "Python 3",
   "language": "python",
   "name": "python3"
  },
  "language_info": {
   "codemirror_mode": {
    "name": "ipython",
    "version": 3
   },
   "file_extension": ".py",
   "mimetype": "text/x-python",
   "name": "python",
   "nbconvert_exporter": "python",
   "pygments_lexer": "ipython3",
   "version": "3.7.0"
  }
 },
 "nbformat": 4,
 "nbformat_minor": 5
}
